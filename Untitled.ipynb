{
 "cells": [
  {
   "cell_type": "code",
   "execution_count": 4,
   "metadata": {},
   "outputs": [],
   "source": [
    "import glob\n",
    "import time\n",
    "\n",
    "\n",
    "import cv2\n",
    "import keras\n",
    "import numpy as np\n",
    "\n",
    "import dlib"
   ]
  },
  {
   "cell_type": "code",
   "execution_count": 7,
   "metadata": {},
   "outputs": [],
   "source": [
    "def predict(image, height=224, width=224):\n",
    "    im = cv2.cvtColor(image, cv2.COLOR_BGR2RGB)\n",
    "\n",
    "    im = im / 255\n",
    "    im = cv2.resize(im, (height, width))\n",
    "    im = im.reshape((1,) + im.shape)\n",
    "\n",
    "    pred = model.predict(im)\n",
    "\n",
    "    mask = pred.reshape((224, 224))\n",
    "\n",
    "    return mask\n",
    "\n",
    "\n",
    "def transfer(image, mask):\n",
    "    mask[mask > 0.5] = 255\n",
    "    mask[mask <= 0.5] = 0\n",
    "\n",
    "    mask = cv2.resize(mask, (image.shape[1], image.shape[0]))\n",
    "\n",
    "    mask_n = np.zeros_like(image)\n",
    "    mask_n[:, :, 0] = mask\n",
    "\n",
    "    alpha = 0.8\n",
    "    beta = (1.0 - alpha)\n",
    "    dst = cv2.addWeighted(image, alpha, mask_n, beta, 0.0)\n",
    "\n",
    "    return dst\n",
    "\n",
    "\n",
    "def getHead(hog_face_detector, image):\n",
    "    faces_hog = hog_face_detector(image, 1)\n",
    "\n",
    "    heads = []\n",
    "    \n",
    "    for face in faces_hog:\n",
    "        \n",
    "        head = dict()\n",
    "        \n",
    "        head[\"left\"] = max(face.left() - 300, 0)\n",
    "        head[\"top\"] = max(face.top() - 300, 0)\n",
    "        head[\"right\"] = min(face.right() + 300, image.shape[0])\n",
    "        head[\"bottom\"] = min(face.bottom() + 300, image.shape[1])\n",
    "        \n",
    "        heads.append(head)\n",
    "\n",
    "    return heads"
   ]
  },
  {
   "cell_type": "code",
   "execution_count": 5,
   "metadata": {},
   "outputs": [],
   "source": [
    "model = keras.models.load_model('/data.local/thangtv/hair-segmentation/checkpoints/06-06-2020_21-36-26/checkpoint.hdf5')\n",
    "\n",
    "hog_face_detector = dlib.get_frontal_face_detector()"
   ]
  },
  {
   "cell_type": "code",
   "execution_count": 9,
   "metadata": {},
   "outputs": [],
   "source": [
    " for path_image in glob.glob('test/images/*'):\n",
    "    image = cv2.imread(path_image)\n",
    "    heads = getHead(hog_face_detector, image)\n",
    "\n",
    "    for head in heads:\n",
    "        img = image[head[\"top\"]:head[\"bottom\"], head[\"left\"]:head[\"right\"]]\n",
    "\n",
    "        mask = predict(img)\n",
    "\n",
    "        dst = transfer(img, mask)\n",
    "\n",
    "        cv2.imwrite(path_image.replace('images', 'outs'), dst)\n"
   ]
  },
  {
   "cell_type": "code",
   "execution_count": null,
   "metadata": {},
   "outputs": [],
   "source": []
  }
 ],
 "metadata": {
  "kernelspec": {
   "display_name": "Python 3",
   "language": "python",
   "name": "python3"
  },
  "language_info": {
   "codemirror_mode": {
    "name": "ipython",
    "version": 3
   },
   "file_extension": ".py",
   "mimetype": "text/x-python",
   "name": "python",
   "nbconvert_exporter": "python",
   "pygments_lexer": "ipython3",
   "version": "3.6.10"
  }
 },
 "nbformat": 4,
 "nbformat_minor": 4
}
